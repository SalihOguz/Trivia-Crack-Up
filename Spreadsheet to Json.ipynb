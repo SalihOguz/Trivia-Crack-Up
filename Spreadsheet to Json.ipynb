{
 "cells": [
  {
   "cell_type": "code",
   "execution_count": null,
   "metadata": {
    "collapsed": true
   },
   "outputs": [],
   "source": [
    "\"\"\"import requests\n",
    "\n",
    "def download_file_from_google_drive(id, destination):\n",
    "    URL = \"https://docs.google.com/uc?export=download\"\n",
    "\n",
    "    session = requests.Session()\n",
    "\n",
    "    response = session.get(URL, params = { 'id' : id }, stream = True)\n",
    "    token = get_confirm_token(response)\n",
    "\n",
    "    if token:\n",
    "        params = { 'id' : id, 'confirm' : token }\n",
    "        response = session.get(URL, params = params, stream = True)\n",
    "\n",
    "    save_response_content(response, destination)    \n",
    "\n",
    "def get_confirm_token(response):\n",
    "    for key, value in response.cookies.items():\n",
    "        if key.startswith('download_warning'):\n",
    "            return value\n",
    "\n",
    "    return None\n",
    "\n",
    "def save_response_content(response, destination):\n",
    "    CHUNK_SIZE = 32768\n",
    "\n",
    "    with open(destination, \"wb\") as f:\n",
    "        for chunk in response.iter_content(CHUNK_SIZE):\n",
    "            if chunk: # filter out keep-alive new chunks\n",
    "                f.write(chunk)\"\"\""
   ]
  },
  {
   "cell_type": "code",
   "execution_count": null,
   "metadata": {
    "collapsed": true
   },
   "outputs": [],
   "source": [
    "\"\"\"import os\n",
    "file_id = '19d_Yv8Ib3AVx1v82KbrX2-y-DlCbTNAUTZ7cP-NNnNw'\n",
    "destination = os.getcwd()\n",
    "download_file_from_google_drive(file_id, destination)\"\"\""
   ]
  },
  {
   "cell_type": "code",
   "execution_count": null,
   "metadata": {
    "collapsed": true
   },
   "outputs": [],
   "source": [
    "\"\"\"from pydrive.drive import GoogleDrive\n",
    "from pydrive.auth import GoogleAuth\n",
    "\n",
    "gauth = GoogleAuth()\n",
    "gauth.LocalWebserverAuth() # Creates local webserver and auto handles authentication.\n",
    "\n",
    "# Create GoogleDrive instance with authenticated GoogleAuth instance.\n",
    "drive = GoogleDrive(gauth)\n",
    "\n",
    "file7 = drive.CreateFile({'id': '19d_Yv8Ib3AVx1v82KbrX2-y-DlCbTNAUTZ7cP-NNnNw'})\n",
    "content = file7.GetContentString()\"\"\""
   ]
  },
  {
   "cell_type": "code",
   "execution_count": 6,
   "metadata": {},
   "outputs": [
    {
     "data": {
      "text/plain": [
       "50685"
      ]
     },
     "execution_count": 6,
     "metadata": {},
     "output_type": "execute_result"
    }
   ],
   "source": [
    "from xlrd import *\n",
    "import json\n",
    "\n",
    "q = open('Questions.json', 'w', encoding='utf-8')\n",
    "\n",
    "book = open_workbook(\"questions.xlsx\")  # opening chosen excel file to read\n",
    "sheet = book.sheet_by_index(0)  # choosing the first sheet of the spreadsheet\n",
    "data = {\"questionList\":[]}\n",
    "\n",
    "Totrow = sheet.nrows\n",
    "Totcol = sheet.ncols\n",
    "\n",
    "titles = [\"questionId\", \"questionText\", \"choice1\", \"choice2\", \"choice3\", \"choice4\", \"rightAnswer\", \"difficulty\", \"category\", \"rightAnswerIndex\"]\n",
    "questionList = []\n",
    "for row_index in range(1, Totrow):\n",
    "    quest = {}\n",
    "    for col_index in range(Totcol):\n",
    "        if[col_index] == \"rightAnswer\":\n",
    "            continue\n",
    "        cell = sheet.cell(row_index, col_index).value\n",
    "        if type(cell) is not float:\n",
    "            cell = sheet.cell(row_index, col_index).value.encode(\"utf-8\")\n",
    "            \n",
    "\n",
    "            \"\"\"if titles[col_index] == \"rightAnswerIndex\":\n",
    "                for i in range(2,6):\n",
    "                    if (cell == sheet.cell(row_index, i).value.encode(\"utf-8\")):\n",
    "                        quest.setdefault(titles[col_index], i - 2)\n",
    "                        break\"\"\"\n",
    "            #else:\n",
    "            quest.setdefault(titles[col_index],cell.decode(\"utf-8\"))\n",
    "        else:\n",
    "             quest.setdefault(titles[col_index], int(cell))\n",
    "    questionList.append(quest)\n",
    "data[\"questionList\"] = questionList\n",
    "q.write(json.dumps(data, indent=4))"
   ]
  },
  {
   "cell_type": "code",
   "execution_count": 23,
   "metadata": {},
   "outputs": [
    {
     "data": {
      "text/plain": [
       "16521"
      ]
     },
     "execution_count": 23,
     "metadata": {},
     "output_type": "execute_result"
    }
   ],
   "source": [
    "from xlrd import *\n",
    "import json, random\n",
    "\n",
    "q = open('FakeUserList.json', 'w', encoding='utf-8')\n",
    "\n",
    "book = open_workbook(\"fakeUserNames.xlsx\")  # opening chosen excel file to read\n",
    "sheet = book.sheet_by_index(0)  # choosing the first sheet of the spreadsheet\n",
    "data = {\"fakeUserList\":[]}\n",
    "\n",
    "Totrow = sheet.nrows\n",
    "Totcol = sheet.ncols\n",
    "\n",
    "titles = [\"userName\", \"isMale\", \"totalCoin\", \"score\"]\n",
    "userList = []\n",
    "for row_index in range(1, Totrow):\n",
    "    user = {}\n",
    "    for col_index in range(Totcol):\n",
    "        #if col_index == 0:\n",
    "        cell = sheet.cell(row_index, col_index).value\n",
    "        user.setdefault(titles[col_index], cell)\n",
    "        \"\"\"elif col_index == 1:\n",
    "            cell = sheet.cell(row_index, col_index).value\n",
    "            user.setdefault(titles[col_index], cell)\n",
    "        else:\n",
    "            cell = int(sheet.cell(row_index, col_index).value)\n",
    "            user.setdefault(titles[col_index], cell)\"\"\"\n",
    "    userList.append(user)\n",
    "data[\"fakeUserList\"] = userList\n",
    "q.write(json.dumps(data, indent=4))"
   ]
  },
  {
   "cell_type": "code",
   "execution_count": 9,
   "metadata": {},
   "outputs": [
    {
     "data": {
      "text/plain": [
       "117410"
      ]
     },
     "execution_count": 9,
     "metadata": {},
     "output_type": "execute_result"
    }
   ],
   "source": [
    "import json\n",
    "q = open('QuestionDataList.json', 'w', encoding='utf-8')\n",
    "data = {\"questionDataList\":[]}\n",
    "questions = []\n",
    "for i in range(214):\n",
    "    dict = {\"questionId\":i,\"answeredRightCount\":0,\"answeredWrongCount\":0,\"chosenChoiceCounts\":[0,0,0,0],\"chosenBidIndexCounts\":[0,0,0],\"bidGivingTimes\":[],\"firstAnsweringTimes\":[],\"secondAnsweringTimes\":[],\"knowQuestionUsedTime\":0,\"disableTwoUsedTime\":0}\n",
    "    questions.append(dict)\n",
    "data[\"questionDataList\"] = questions\n",
    "q.write(json.dumps(data, indent=4))"
   ]
  },
  {
   "cell_type": "code",
   "execution_count": null,
   "metadata": {
    "collapsed": true
   },
   "outputs": [],
   "source": []
  }
 ],
 "metadata": {
  "kernelspec": {
   "display_name": "Python 3",
   "language": "python",
   "name": "python3"
  },
  "language_info": {
   "codemirror_mode": {
    "name": "ipython",
    "version": 3
   },
   "file_extension": ".py",
   "mimetype": "text/x-python",
   "name": "python",
   "nbconvert_exporter": "python",
   "pygments_lexer": "ipython3",
   "version": "3.6.1"
  }
 },
 "nbformat": 4,
 "nbformat_minor": 2
}
